{
 "cells": [
  {
   "cell_type": "code",
   "execution_count": 3,
   "metadata": {},
   "outputs": [],
   "source": [
    "import pandas as pd\n",
    "import numpy as np\n",
    "from statsmodels.tsa.statespace.sarimax import SARIMAX\n",
    "from pmdarima import auto_arima\n",
    "from pandas.tseries.offsets import DateOffset\n",
    "import matplotlib.pyplot as plt\n",
    "from prophet import Prophet\n",
    "from sklearn.metrics import mean_squared_error"
   ]
  },
  {
   "cell_type": "code",
   "execution_count": 14,
   "metadata": {},
   "outputs": [],
   "source": [
    "df_serie_hist = pd.read_csv(r'C:\\Users\\DuduCuco\\Documents\\NewDoencasRespiratorias\\DoencasRespiratorias\\Scripts\\serie_hist.csv')"
   ]
  },
  {
   "cell_type": "code",
   "execution_count": 19,
   "metadata": {},
   "outputs": [
    {
     "name": "stdout",
     "output_type": "stream",
     "text": [
      "Performing stepwise search to minimize aic\n",
      " ARIMA(2,1,2)(1,0,1)[12] intercept   : AIC=195953.116, Time=61.30 sec\n",
      " ARIMA(0,1,0)(0,0,0)[12] intercept   : AIC=200537.468, Time=0.63 sec\n",
      " ARIMA(1,1,0)(1,0,0)[12] intercept   : AIC=197684.016, Time=5.57 sec\n",
      " ARIMA(0,1,1)(0,0,1)[12] intercept   : AIC=196686.385, Time=12.70 sec\n",
      " ARIMA(0,1,0)(0,0,0)[12]             : AIC=200535.470, Time=0.32 sec\n"
     ]
    },
    {
     "ename": "",
     "evalue": "",
     "output_type": "error",
     "traceback": [
      "\u001b[1;31mThe Kernel crashed while executing code in the current cell or a previous cell. \n",
      "\u001b[1;31mPlease review the code in the cell(s) to identify a possible cause of the failure. \n",
      "\u001b[1;31mClick <a href='https://aka.ms/vscodeJupyterKernelCrash'>here</a> for more info. \n",
      "\u001b[1;31mView Jupyter <a href='command:jupyter.viewOutput'>log</a> for further details."
     ]
    }
   ],
   "source": [
    "# Função para preparar a visão de diárias de UTI por mês/ano de um estabelecimento específico\n",
    "def prepare_time_series(data):\n",
    "    # Transformando as colunas 'Ano' e 'Mes' em uma única coluna de data\n",
    "    data['Date'] = pd.to_datetime(data['Ano'].astype(str) + '-' + data['Mês'].astype(str) + '-01')\n",
    "    \n",
    "    # Definindo 'Date' como índice\n",
    "    data.set_index('Date', inplace=True)\n",
    "    \n",
    "    # Selecionando apenas a coluna 'internacoes'\n",
    "    data = data[['Internações']]\n",
    "    \n",
    "    return data\n",
    "\n",
    "# Função de previsão usando SARIMAX com auto_arima\n",
    "def forecast_time_series(data, steps=12):\n",
    "    # Use auto_arima para encontrar os melhores hiperparâmetros do modelo SARIMA\n",
    "    model = auto_arima(data, seasonal=True, m=12, stepwise=True, trace=True, error_action='ignore',\n",
    "                      suppress_warnings=True, max_order=None)\n",
    "    \n",
    "    # Ajustar o modelo SARIMAX com os hiperparâmetros encontrados\n",
    "    sarimax_model = SARIMAX(data, order=model.order, seasonal_order=model.seasonal_order)\n",
    "    fitted_model = sarimax_model.fit(disp=False)\n",
    "    \n",
    "    # Fazer previsões\n",
    "    forecast = fitted_model.get_forecast(steps=steps)\n",
    "    forecast_index = pd.date_range(data.index[-1] + DateOffset(months=1), periods=steps, freq='M')\n",
    "    forecast_values = forecast.predicted_mean\n",
    "    forecast_conf_int = forecast.conf_int()\n",
    "    \n",
    "    # Construir dataframe de previsão\n",
    "    forecast_df = pd.DataFrame({\n",
    "        'Forecast': forecast_values,\n",
    "        'Lower CI': forecast_conf_int.iloc[:, 0],\n",
    "        'Upper CI': forecast_conf_int.iloc[:, 1]\n",
    "    }, index=forecast_index)\n",
    "    \n",
    "    return forecast_df\n",
    "\n",
    "# Função de previsão usando Prophet\n",
    "def forecast_time_series_prophet(data):\n",
    "    # Preparar o dataframe para o Prophet\n",
    "    data_prophet = pd.DataFrame({\n",
    "        'ds': data.index,\n",
    "        'y': data.values\n",
    "    })\n",
    "    \n",
    "    # Ajustar o modelo Prophet\n",
    "    prophet_model = Prophet()\n",
    "    prophet_model.fit(data_prophet)\n",
    "    \n",
    "    # Fazer previsões\n",
    "    future = prophet_model.make_future_dataframe(periods=12, freq='M')\n",
    "    forecast = prophet_model.predict(future)\n",
    "    \n",
    "    return forecast.set_index('ds')['yhat']\n",
    "\n",
    "# Função para calcular o MSE\n",
    "def calculate_mse(actual, predicted):\n",
    "    return mean_squared_error(actual, predicted)\n",
    "\n",
    "# Carregar o dataframe df_serie_hist\n",
    "data = df_serie_hist\n",
    "\n",
    "# Preparar a série temporal\n",
    "time_series = prepare_time_series(data)\n",
    "\n",
    "# Previsão com SARIMAX\n",
    "forecast_sarimax = forecast_time_series(time_series)\n",
    "\n",
    "# Previsão com Prophet\n",
    "forecast_prophet = forecast_time_series_prophet(time_series)\n",
    "\n",
    "# Calcular o MSE para cada previsão\n",
    "mse_sarimax = calculate_mse(time_series[-12:], forecast_sarimax['Forecast'])\n",
    "mse_prophet = calculate_mse(time_series[-12:], forecast_prophet[-12:])\n",
    "\n",
    "# Imprimir os MSEs\n",
    "print(f\"MSE do modelo SARIMAX: {mse_sarimax}\")\n",
    "print(f\"MSE do modelo Prophet: {mse_prophet}\")\n",
    "\n",
    "# Comparar os MSEs e escolher o melhor modelo\n",
    "if mse_sarimax < mse_prophet:\n",
    "    print(\"O modelo SARIMAX é o melhor.\")\n",
    "    best_forecast = forecast_sarimax['Forecast']\n",
    "else:\n",
    "    print(\"O modelo Prophet é o melhor.\")\n",
    "    best_forecast = forecast_prophet[-12:]\n",
    "\n",
    "# Plotar as previsões\n",
    "plt.figure(figsize=(10, 6))\n",
    "plt.plot(time_series, label='Dados originais')\n",
    "plt.plot(forecast_sarimax['Forecast'], label=f'Previsão SARIMAX (MSE: {mse_sarimax:.2f})')\n",
    "plt.plot(forecast_prophet[-12:], label=f'Previsão Prophet (MSE: {mse_prophet:.2f})')\n",
    "plt.legend()\n",
    "plt.title(\"Previsões para internações\")\n",
    "plt.show()"
   ]
  }
 ],
 "metadata": {
  "kernelspec": {
   "display_name": "base",
   "language": "python",
   "name": "python3"
  },
  "language_info": {
   "codemirror_mode": {
    "name": "ipython",
    "version": 3
   },
   "file_extension": ".py",
   "mimetype": "text/x-python",
   "name": "python",
   "nbconvert_exporter": "python",
   "pygments_lexer": "ipython3",
   "version": "3.9.13"
  }
 },
 "nbformat": 4,
 "nbformat_minor": 2
}
