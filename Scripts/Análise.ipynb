{
 "cells": [
  {
   "cell_type": "code",
   "execution_count": 1,
   "metadata": {},
   "outputs": [],
   "source": [
    "import pandas as pd\n",
    "import numpy as np"
   ]
  },
  {
   "cell_type": "code",
   "execution_count": 3,
   "metadata": {},
   "outputs": [
    {
     "data": {
      "text/html": [
       "<div>\n",
       "<style scoped>\n",
       "    .dataframe tbody tr th:only-of-type {\n",
       "        vertical-align: middle;\n",
       "    }\n",
       "\n",
       "    .dataframe tbody tr th {\n",
       "        vertical-align: top;\n",
       "    }\n",
       "\n",
       "    .dataframe thead th {\n",
       "        text-align: right;\n",
       "    }\n",
       "</style>\n",
       "<table border=\"1\" class=\"dataframe\">\n",
       "  <thead>\n",
       "    <tr style=\"text-align: right;\">\n",
       "      <th></th>\n",
       "      <th>Mês/ano de competência</th>\n",
       "      <th>1 dia</th>\n",
       "      <th>2 dias</th>\n",
       "      <th>3 dias</th>\n",
       "      <th>4 dias</th>\n",
       "      <th>5 dias</th>\n",
       "      <th>6 dias</th>\n",
       "      <th>7 dias</th>\n",
       "      <th>8-14 dias</th>\n",
       "      <th>15-21 dias</th>\n",
       "      <th>22-28 dias</th>\n",
       "      <th>29 dias e +</th>\n",
       "      <th>Criterio</th>\n",
       "    </tr>\n",
       "  </thead>\n",
       "  <tbody>\n",
       "    <tr>\n",
       "      <th>0</th>\n",
       "      <td>jan/08</td>\n",
       "      <td>213</td>\n",
       "      <td>378</td>\n",
       "      <td>303</td>\n",
       "      <td>348</td>\n",
       "      <td>450</td>\n",
       "      <td>348</td>\n",
       "      <td>399</td>\n",
       "      <td>1765</td>\n",
       "      <td>1199</td>\n",
       "      <td>704</td>\n",
       "      <td>1782</td>\n",
       "      <td>Dias Perm</td>\n",
       "    </tr>\n",
       "    <tr>\n",
       "      <th>1</th>\n",
       "      <td>fev/08</td>\n",
       "      <td>399</td>\n",
       "      <td>722</td>\n",
       "      <td>678</td>\n",
       "      <td>688</td>\n",
       "      <td>680</td>\n",
       "      <td>618</td>\n",
       "      <td>756</td>\n",
       "      <td>4899</td>\n",
       "      <td>2548</td>\n",
       "      <td>1827</td>\n",
       "      <td>6448</td>\n",
       "      <td>Dias Perm</td>\n",
       "    </tr>\n",
       "    <tr>\n",
       "      <th>2</th>\n",
       "      <td>mar/08</td>\n",
       "      <td>463</td>\n",
       "      <td>970</td>\n",
       "      <td>1383</td>\n",
       "      <td>1264</td>\n",
       "      <td>1270</td>\n",
       "      <td>1074</td>\n",
       "      <td>1204</td>\n",
       "      <td>5859</td>\n",
       "      <td>3117</td>\n",
       "      <td>2111</td>\n",
       "      <td>6692</td>\n",
       "      <td>Dias Perm</td>\n",
       "    </tr>\n",
       "    <tr>\n",
       "      <th>3</th>\n",
       "      <td>abr/08</td>\n",
       "      <td>515</td>\n",
       "      <td>1326</td>\n",
       "      <td>1428</td>\n",
       "      <td>1632</td>\n",
       "      <td>1695</td>\n",
       "      <td>1746</td>\n",
       "      <td>1435</td>\n",
       "      <td>7880</td>\n",
       "      <td>3503</td>\n",
       "      <td>2741</td>\n",
       "      <td>7095</td>\n",
       "      <td>Dias Perm</td>\n",
       "    </tr>\n",
       "    <tr>\n",
       "      <th>4</th>\n",
       "      <td>mai/08</td>\n",
       "      <td>755</td>\n",
       "      <td>1770</td>\n",
       "      <td>1977</td>\n",
       "      <td>2236</td>\n",
       "      <td>2315</td>\n",
       "      <td>2304</td>\n",
       "      <td>2534</td>\n",
       "      <td>11815</td>\n",
       "      <td>5407</td>\n",
       "      <td>3606</td>\n",
       "      <td>11186</td>\n",
       "      <td>Dias Perm</td>\n",
       "    </tr>\n",
       "  </tbody>\n",
       "</table>\n",
       "</div>"
      ],
      "text/plain": [
       "  Mês/ano de competência  1 dia  2 dias  3 dias  4 dias  5 dias  6 dias  \\\n",
       "0                 jan/08    213     378     303     348     450     348   \n",
       "1                 fev/08    399     722     678     688     680     618   \n",
       "2                 mar/08    463     970    1383    1264    1270    1074   \n",
       "3                 abr/08    515    1326    1428    1632    1695    1746   \n",
       "4                 mai/08    755    1770    1977    2236    2315    2304   \n",
       "\n",
       "   7 dias  8-14 dias  15-21 dias  22-28 dias  29 dias e +   Criterio  \n",
       "0     399       1765        1199         704         1782  Dias Perm  \n",
       "1     756       4899        2548        1827         6448  Dias Perm  \n",
       "2    1204       5859        3117        2111         6692  Dias Perm  \n",
       "3    1435       7880        3503        2741         7095  Dias Perm  \n",
       "4    2534      11815        5407        3606        11186  Dias Perm  "
      ]
     },
     "execution_count": 3,
     "metadata": {},
     "output_type": "execute_result"
    }
   ],
   "source": [
    "# Dias de permanência total \n",
    "\n",
    "df_DiasPerm = pd.read_excel(r'C:\\Users\\DuduCuco\\Documents\\NewDoencasRespiratorias\\DoencasRespiratorias\\Data\\DiasPerm.xlsx')\n",
    "df_DiasPerm.head()"
   ]
  },
  {
   "cell_type": "code",
   "execution_count": 28,
   "metadata": {},
   "outputs": [],
   "source": [
    "# Dias de permanência por hospital\n",
    "\n",
    "df_Hosp = pd.read_excel(r'C:\\Users\\DuduCuco\\Documents\\NewDoencasRespiratorias\\DoencasRespiratorias\\Data\\DiasPermEstabSaude.xlsx')\n",
    "df_Hosp.set_index('Mês/ano de competência', inplace=True)\n",
    "df_Hosp = df_Hosp.iloc[:, :-1]"
   ]
  },
  {
   "cell_type": "markdown",
   "metadata": {},
   "source": [
    "Pegar a média para cada mes e fazer o indicador de ocupação max"
   ]
  },
  {
   "cell_type": "code",
   "execution_count": 38,
   "metadata": {},
   "outputs": [
    {
     "data": {
      "text/plain": [
       "2077531 A C CAMARGO CANCER CENTER                          413\n",
       "2077655 ASSOC AACD V CLEMENTINO                             56\n",
       "6984649 BP HOSPITAL FILANTROPICO (DESATIVADO 03/2022)      432\n",
       "2078287 CENTRO DE REFERENCIA DA SAUDE DA MULHER            634\n",
       "2077957 CENTRO DE REFERENCIA E TREINAMENTO DSTAIDS SES      68\n",
       "                                                          ... \n",
       "2091550 INST CEMA DE OFTALMO E OTORRINO                     57\n",
       "6123740 INST DO CANCER DO ESTADO DE SAO PAULO             1793\n",
       "2071568 INST DO CORACAO - INCOR - HC/FMUSP                2042\n",
       "2080125 INSTITUTO DO CANCER ARNALDO VIEIRA DE CARVALHO     192\n",
       "2688689 SANTA CASA DE SAO PAULO                           2851\n",
       "Length: 84, dtype: int64"
      ]
     },
     "execution_count": 38,
     "metadata": {},
     "output_type": "execute_result"
    }
   ],
   "source": [
    "maior_ocupacao = df_Hosp.max(axis=0)\n",
    "maior_ocupacao"
   ]
  },
  {
   "cell_type": "code",
   "execution_count": null,
   "metadata": {},
   "outputs": [],
   "source": []
  }
 ],
 "metadata": {
  "kernelspec": {
   "display_name": "Python 3",
   "language": "python",
   "name": "python3"
  },
  "language_info": {
   "codemirror_mode": {
    "name": "ipython",
    "version": 3
   },
   "file_extension": ".py",
   "mimetype": "text/x-python",
   "name": "python",
   "nbconvert_exporter": "python",
   "pygments_lexer": "ipython3",
   "version": "3.9.13"
  }
 },
 "nbformat": 4,
 "nbformat_minor": 2
}
